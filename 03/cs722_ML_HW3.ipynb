{
 "cells": [
  {
   "cell_type": "markdown",
   "metadata": {
    "colab_type": "text",
    "id": "qC9MW5CZIzhE"
   },
   "source": [
    "# CS722 Machine Learning \n",
    "\n",
    "## Assignment 3 | Herambeshwar pendyala | 01130541\n",
    "\n",
    "### Problem 1 :\n",
    "Please derive the gradient of the loss function in logistic regression (i.e., the logistic loss as shown in below) with respect to w, which is a vector and the model parameter.\n",
    "\n",
    "<!-- ![optimization Problem](https://www.cs.odu.edu/~hpendyal/courses/cs722/images/hw3-1.PNG)\n",
    " -->\n",
    "\\begin{equation*}\n",
    "L(w) = \\sum_{i=1}^N log(1+exp(x_i^Tw)) - y_ix_i^Tw\n",
    "\\end{equation*}\n",
    "\n",
    "where (𝐱𝑖, 𝑦𝑖) represents the 𝑖-th example, 𝐱𝑖 being data vector for input variables and 𝑦𝑖 being the label. 𝑁 is the total number of examples in the data.\n",
    "\n",
    "### Solution : \n",
    "\n",
    "given equation\n",
    "\\begin{equation*}\n",
    "L(w) = \\sum_{i=1}^N log(1+exp(x_i^Tw)) - y_ix_i^Tw\n",
    "\\end{equation*}\n",
    "\n",
    "Differentiating the above equation partially w.r.t 'w' will give us the gradient, the equation is given below. \n",
    "\\begin{align}\n",
    "\\frac{\\partial L(w)}{\\partial t}\\ = \\sum_{i=1}^N \\frac{e^{(x_i^Tw)}}{1+e^{(x_i^Tw)}}\\ x_i^T - y_ix_i^T \n",
    "\\end{align}\n",
    "\n",
    "we can take  $x_i^T$ common, then equation becomes as below. \n",
    "  \n",
    "\\begin{equation*}\n",
    "\\frac{\\partial L(w)}{\\partial t}\\ = \\sum_{i=1}^N x_i^T(\\frac{e^{(x_i^Tw)}}{1+e^{(x_i^Tw)}}\\ -y_i)\n",
    "\\end{equation*}\n",
    "\n",
    "here we know $\\sigma(x) =  \\frac{e^x}{1 + e^x}$, so we can substitute $\\sigma(x_i^Tw)$ in place of $\\frac{e^(x_i^Tw)}{1 + e^(x_i^Tw)}$ now the above equation is updated as:\n",
    "\n",
    "\\begin{align}\n",
    "\\frac{\\partial L(w)}{\\partial t}\\ = \\sum_{i=1}^N x_i^T(\\sigma(x_i^Tw) -y_i)\n",
    "\\end{align} \n",
    "\n",
    "if we substitute $X = \\sum_{i=1}^N x_i$ and $Y = \\sum_{i=1}^N y_i$ then the gradient will look like\n",
    "\n",
    "\\begin{align}\n",
    "\\frac{\\partial L(w)}{\\partial t}\\ = X^T(\\sigma(X^Tw) - Y)\n",
    "\\end{align} \n",
    "\n",
    "***Final Gradient*** is \n",
    "\n",
    "\\begin{align}\n",
    "\\nabla L(w) = X^T(\\sigma(X^Tw) - Y)\n",
    "\\end{align}\n"
   ]
  },
  {
   "cell_type": "markdown",
   "metadata": {
    "colab_type": "text",
    "id": "5or5YRcaJdns"
   },
   "source": [
    "### problem 2\n",
    "Program your own logistic regression classifier (Python is preferred) by implementing a gradient decent algorithm to find the optimal w that minimizes the logistic loss in\n",
    "Problem 1. That is to find solution to the following optimization problem:\n",
    "<!--![optimization Problem-coding](https://www.cs.odu.edu/~hpendyal/courses/cs722/images/hw3-2.PNG)-->\n",
    "\n",
    "\\begin{equation*}\n",
    "L(w) = \\sum_{i=1}^N log(1+exp(x_i^Tw)) - y_ix_i^Tw\n",
    "\\end{equation*}\n",
    "\n"
   ]
  },
  {
   "cell_type": "code",
   "execution_count": 1,
   "metadata": {},
   "outputs": [],
   "source": [
    "#--- import libraries\n",
    "import numpy as np\n",
    "from sklearn.metrics import roc_curve,roc_auc_score\n",
    "\n",
    "#--- initialize parameters\n",
    "def initParams(dims):\n",
    "  w = np.zeros((dims,1))\n",
    "  return w\n",
    "\n",
    "#--- sigmoid function\n",
    "def sigmoid(z):\n",
    "  return 1/(1+np.exp(-z))\n",
    "\n",
    "#--- function to calculate logistic loss\n",
    "def logisticLoss(X,Y,w):\n",
    "  z = np.dot(X,w)\n",
    "  h = sigmoid(z)\n",
    "  #print('--> h : ',h)\n",
    "  #print('--> Y : ',Y)\n",
    "  cost = (-Y * np.log(h) - (1 - Y) * np.log(1 - h)).mean()\n",
    "  #A = h-Y\n",
    "  #print('--> A : ',A)\n",
    "  dw = np.dot(X.T, (h-Y))/Y.size\n",
    "  #print('h-Y : ',A.shape)\n",
    "  return dw, cost\n",
    "\n",
    "#--- gradient Descent\n",
    "def gradientDescent(X,Y,w,learning_rate=0.1, num_iterations=100, print_cost = False):\n",
    "  costs = []\n",
    "  #print('before--> ',w)\n",
    "  #print('before--> ',w.shape)\n",
    "  for i in range(num_iterations):\n",
    "    dw, cost = logisticLoss(X,Y,w)\n",
    "    #print(dw)\n",
    "    w = w - learning_rate * dw\n",
    "    #print(w)\n",
    "    #print(w.shape)\n",
    "    if print_cost and (i%1000 == 0):\n",
    "      costs.append(cost)\n",
    "      print(\"Cost after iteration %i : %f\"%(i,cost))\n",
    "  return w, dw, costs\n",
    "\n",
    "#--- function to return prdicted probabilities\n",
    "def predict_prob(X,w):\n",
    "  #print('--> prob X : ',X.shape)\n",
    "  z = np.dot(X,w)\n",
    "  Y_prob = sigmoid(z)\n",
    "  #print('--> prob Y : ',Y_prob.shape)\n",
    "  return Y_prob\n",
    "\n",
    "#--- function to predict class\n",
    "def predictClass(X,w,threshold):\n",
    "  y_pred = []\n",
    "  y_prob = predict_prob(X,w)\n",
    "  for i in range(len(y_prob)):\n",
    "    if(y_prob[i] >= threshold):\n",
    "      y_pred.append(1)\n",
    "    else:\n",
    "      y_pred.append(0)\n",
    "  return y_pred\n",
    "\n",
    "#--- logistic regression classifier\n",
    "def logistic(X_train, Y_train, X_test, Y_test, learning_rate = 0.1, num_iterations = 1, print_cost = False, threshold = 0.5):\n",
    "  #--- initialize the parameters (w in this case)\n",
    "  w = initParams(X_train.shape[1])\n",
    "  #--- calculate cost\n",
    "  #--- update the parameters using gradientDescent\n",
    "  w,dw,costs = gradientDescent(X_train, Y_train, w, learning_rate, num_iterations, print_cost)\n",
    "  #print(w.shape)\n",
    "  #--- predict the probabilities and get predicted_y for train.\n",
    "  y_prob_train = predict_prob(X_train, w)\n",
    "  y_prob_test = predict_prob(X_test, w)\n",
    "  #--- predict the probabilities and get predicted_y for test.\n",
    "  y_pred_train = predictClass(X_train,w,threshold)\n",
    "  y_pred_test = predictClass(X_test,w,threshold)\n",
    "  Y_train = np.squeeze(Y_train)\n",
    "  Y_test = np.squeeze(Y_test)\n",
    "  #print(len(y_pred_train),' ',len(Y_train))\n",
    "  #print(len(y_pred_test),' ',len(Y_test))\n",
    "  #--- calculate the accuracy\n",
    "  print(\"train accuracy: {} %\".format(100 - np.mean(np.abs(y_pred_train - Y_train)) * 100))\n",
    "  print(\"test accuracy: {} %\".format(100 - np.mean(np.abs(y_pred_test - Y_test)) * 100))\n",
    "  #--- return all of them in a dictionary\n",
    "  result = {\n",
    "      \"costs\" : costs,\n",
    "      \"Y_Prediction_Test\" : y_pred_test,\n",
    "      \"Y_Prediction_Train\" : y_pred_train,\n",
    "      \"Y_prob_train\":y_prob_train,\n",
    "      \"Y_prob_test\":y_prob_test,\n",
    "      \"w\" : w,\n",
    "      \"learning_rate\" : learning_rate,\n",
    "      \"num_iterations\" : num_iterations\n",
    "  }\n",
    "  return result"
   ]
  },
  {
   "cell_type": "code",
   "execution_count": 2,
   "metadata": {},
   "outputs": [],
   "source": [
    "#--- Plotting the cost\n",
    "import matplotlib.pyplot as plt\n",
    "%matplotlib inline\n",
    "# Plot learning curve (with costs)\n",
    "def plotlearningCurve(results):\n",
    "  costs = np.squeeze(results['costs'])\n",
    "  plt.figure( figsize=(12,10))\n",
    "  plt.plot(costs)\n",
    "  plt.ylabel('cost')\n",
    "  plt.xlabel('iterations (per thousands)')\n",
    "  plt.title(\"Learning rate =\" + str(results[\"learning_rate\"]))\n",
    "  plt.show()\n"
   ]
  },
  {
   "cell_type": "code",
   "execution_count": 3,
   "metadata": {},
   "outputs": [
    {
     "name": "stdout",
     "output_type": "stream",
     "text": [
      "(150, 2)\n",
      "(150, 1)\n",
      "[0 0 0 0 0 0 0 0 0 0 0 0 0 0 0 0 0 0 0 0 0 0 0 0 0 0 0 0 0 0 0 0 0 0 0 0 0\n",
      " 0 0 0 0 0 0 0 0 0 0 0 0 0 1 1 1 1 1 1 1 1 1 1 1 1 1 1 1 1 1 1 1 1 1 1 1 1\n",
      " 1 1 1 1 1 1 1 1 1 1 1 1 1 1 1 1 1 1 1 1 1 1 1 1 1 1 1 1 1 1 1 1 1 1 1 1 1\n",
      " 1 1 1 1 1 1 1 1 1 1 1 1 1 1 1 1 1 1 1 1 1 1 1 1 1 1 1 1 1 1 1 1 1 1 1 1 1\n",
      " 1 1]\n",
      "Cost after iteration 0 : 0.693147\n",
      "Cost after iteration 1000 : 0.677959\n",
      "Cost after iteration 2000 : 0.665700\n",
      "Cost after iteration 3000 : 0.655777\n",
      "Cost after iteration 4000 : 0.647715\n",
      "Cost after iteration 5000 : 0.641135\n",
      "Cost after iteration 6000 : 0.635739\n",
      "Cost after iteration 7000 : 0.631289\n",
      "Cost after iteration 8000 : 0.627595\n",
      "Cost after iteration 9000 : 0.624507\n",
      "train accuracy: 66.0 %\n",
      "test accuracy: 68.0 %\n"
     ]
    },
    {
     "data": {
      "image/png": "[encoded data removed]",
      "text/plain": [
       "<Figure size 864x720 with 1 Axes>"
      ]
     },
     "metadata": {
      "needs_background": "light"
     },
     "output_type": "display_data"
    }
   ],
   "source": [
    "#--- Testing the logistic regression function\n",
    "import sklearn.datasets\n",
    "iris = sklearn.datasets.load_iris()\n",
    "X = iris.data[:, :2]\n",
    "y = (iris.target != 0) * 1\n",
    "y = y.reshape((y.shape[0],1))\n",
    "print(X.shape)\n",
    "print(y.shape)\n",
    "#print(y)\n",
    "print(np.squeeze(y))\n",
    "\n",
    "from sklearn.model_selection import train_test_split\n",
    "X_train, X_test, Y_train, Y_test = train_test_split(X, y, test_size = 0.33, random_state = 0)\n",
    "d = logistic(X_train, Y_train, X_test, Y_test, 0.00001,  10000, True)\n",
    "#Y_Prediction_Train = d['Y_Prediction_Train']\n",
    "plotlearningCurve(d)"
   ]
  },
  {
   "cell_type": "markdown",
   "metadata": {
    "colab_type": "text",
    "id": "9pMSKXxVJXXH"
   },
   "source": [
    "### Problem 3 \n",
    "Program (with python preferred) a function that plots an ROC curve with input of a\n",
    "vector containing the true label and another vector containing the predicted probabilities\n",
    "of class membership for a set of examples.\n",
    "\n"
   ]
  },
  {
   "cell_type": "code",
   "execution_count": 4,
   "metadata": {},
   "outputs": [],
   "source": [
    "x = np.linspace(0, 1, num=100) #--- print 100 numbers between 0 to 1\n",
    "#print(x)"
   ]
  },
  {
   "cell_type": "code",
   "execution_count": 5,
   "metadata": {},
   "outputs": [
    {
     "name": "stdout",
     "output_type": "stream",
     "text": [
      "100\n",
      "--- Confusion Matrix ---\n",
      "- Predicted = yes ---- Predicted = No --------\n",
      "Actual - Yes TP :  66  | FN :  0\n",
      "Actual - No  FP :  34  | TN :  0\n"
     ]
    },
    {
     "data": {
      "text/plain": [
       "{'TP': 66, 'FN': 0, 'FP': 34, 'TN': 0}"
      ]
     },
     "execution_count": 5,
     "metadata": {},
     "output_type": "execute_result"
    }
   ],
   "source": [
    "#a = np.array([1,1,1,1,1,0,0,0,1]) #--- actual\n",
    "#b = np.array([1,0,0,0,1,0,1,1,1]) #--- predicted\n",
    "#print('Actual    - ',a)\n",
    "#print('Predicted - ',b)\n",
    "\n",
    "def confusionMatrix(actual, predicted, printResult = False):\n",
    "  TP, FP, TN, FN = 0,0,0,0\n",
    "  for a,p in zip(actual,predicted) :\n",
    "    if ((a == p) and a == 1): #-- True Positive\n",
    "      TP+=1\n",
    "    if ((a == p) and a == 0): #-- True Negative\n",
    "      TN+=1\n",
    "    if ((a != p) and a == 1): #-- False Negative\n",
    "      FN+=1\n",
    "    if ((a != p) and a == 0): #-- False Positives\n",
    "      FP+=1\n",
    "  if(printResult):\n",
    "    print('--- Confusion Matrix ---')\n",
    "    print('- Predicted = yes ---- Predicted = No --------')\n",
    "    print('Actual - Yes TP : ',TP , ' | FN : ', FN)\n",
    "    print('Actual - No  FP : ',FP , ' | TN : ', TN)\n",
    "  return {'TP':TP,'FN':FN,'FP':FP,'TN':TN}\n",
    "\n",
    "\n",
    "probs = d['Y_prob_train']\n",
    "probs = np.squeeze(probs)\n",
    "y_preds = d['Y_Prediction_Train']\n",
    "y_original = np.squeeze(Y_train)\n",
    "print(len(y_original))\n",
    "#print(probs.shape)\n",
    "#print(y_preds.shape)\n",
    "#print(y_original.shape)\n",
    "confusionMatrix(y_original, y_preds,True)"
   ]
  },
  {
   "cell_type": "code",
   "execution_count": 6,
   "metadata": {},
   "outputs": [
    {
     "data": {
      "text/plain": [
       "{'TP': 66, 'FN': 0, 'FP': 34, 'TN': 0}"
      ]
     },
     "execution_count": 6,
     "metadata": {},
     "output_type": "execute_result"
    }
   ],
   "source": [
    "def calc_threshold(actuals, scores, threshold=0.5, positive_label=1):\n",
    "    tp=fp=tn=fn=0\n",
    "    #bool_actuals = [act==positive_label for act in actuals]\n",
    "    #for truth, score in zip(bool_actuals, scores):\n",
    "    for score,actual in zip(scores,actuals):\n",
    "        if score >= threshold:                     # predicted positive \n",
    "            if actual == positive_label:           # actually positive \n",
    "                tp += 1\n",
    "            else:                                  # actually negative              \n",
    "                fp += 1          \n",
    "        else:                                      # predicted negative \n",
    "            if not (actual == positive_label):     # actually negative \n",
    "                tn += 1                          \n",
    "            else:                                  # actually positive \n",
    "                fn += 1\n",
    "    return {'TP':tp,'FN':fn,'FP':fp,'TN':tn}\n",
    "calc_threshold(y_original, probs,0.5,1)"
   ]
  },
  {
   "cell_type": "code",
   "execution_count": 7,
   "metadata": {},
   "outputs": [],
   "source": [
    "import matplotlib.pyplot as plt\n",
    "%matplotlib inline\n",
    "\n",
    "def plotROC(Y,Yhat,probs):\n",
    "  fig, ax = plt.subplots(1,1, figsize=(12,10))\n",
    "  TPR = dict()\n",
    "  FPR = dict()\n",
    "  \n",
    "  # generate thresholds over score domain \n",
    "  low = min(probs)\n",
    "  high = max(probs)\n",
    "  mid = (low+high)/2\n",
    "  #print(low)\n",
    "  #print(high)\n",
    "  FPR_list, TPR_list, thresholds = roc_curve(y_original, probs)\n",
    "  auc = roc_auc_score(y_original, probs)\n",
    "  #Plotting final ROC curve\n",
    "  ax.plot(FPR_list, TPR_list)\n",
    "  #ax.plot(x,x, \"--\")\n",
    "  # ax.plot([0, 1], [0, 1], 'k--')\n",
    "  # ax.set_xlim([0,1])\n",
    "  # ax.set_ylim([0,1])\n",
    "  ax.set_title(\"ROC Curve\", fontsize=15)\n",
    "  ax.set_ylabel('TPR', fontsize=15)\n",
    "  ax.set_xlabel('FPR', fontsize=15)\n",
    "  ax.grid()\n",
    "  ax.legend([\"AUC=%.3f\"%auc])\n",
    "  fig.show()\n",
    "\n",
    "#plotROC(a,b)"
   ]
  },
  {
   "cell_type": "code",
   "execution_count": 8,
   "metadata": {},
   "outputs": [
    {
     "name": "stderr",
     "output_type": "stream",
     "text": [
      "/home/heramb/anaconda3/lib/python3.7/site-packages/ipykernel_launcher.py:28: UserWarning: Matplotlib is currently using module://ipykernel.pylab.backend_inline, which is a non-GUI backend, so cannot show the figure.\n"
     ]
    },
    {
     "data": {
      "image/png": "[encoded data removed]",
      "text/plain": [
       "<Figure size 864x720 with 1 Axes>"
      ]
     },
     "metadata": {
      "needs_background": "light"
     },
     "output_type": "display_data"
    }
   ],
   "source": [
    "plotROC(y_original,y_preds,probs)"
   ]
  },
  {
   "cell_type": "code",
   "execution_count": 9,
   "metadata": {},
   "outputs": [
    {
     "name": "stdout",
     "output_type": "stream",
     "text": [
      "--> probs 100\n",
      "--> thresholds :  39\n",
      "--> fpr :  [0.         0.         0.         0.         0.         0.\n",
      " 0.         0.         0.         0.         0.         0.05882353\n",
      " 0.05882353 0.05882353 0.05882353 0.05882353 0.05882353 0.08823529\n",
      " 0.08823529 0.11764706 0.11764706 0.17647059 0.23529412 0.23529412\n",
      " 0.23529412 0.23529412 0.26470588 0.32352941 0.35294118 0.41176471\n",
      " 0.55882353 0.55882353 0.58823529 0.64705882 0.73529412 0.73529412\n",
      " 0.76470588 0.76470588 1.        ]\n",
      "--> tpr :  [0.         0.01515152 0.1969697  0.22727273 0.25757576 0.31818182\n",
      " 0.36363636 0.39393939 0.54545455 0.57575758 0.65151515 0.65151515\n",
      " 0.68181818 0.74242424 0.77272727 0.8030303  0.84848485 0.84848485\n",
      " 0.86363636 0.86363636 0.89393939 0.89393939 0.89393939 0.90909091\n",
      " 0.93939394 0.95454545 0.95454545 0.95454545 0.95454545 0.95454545\n",
      " 0.95454545 0.96969697 0.96969697 0.96969697 0.96969697 0.98484848\n",
      " 0.98484848 1.         1.        ]\n",
      "AUC Score (ROC Curve for Logistic Regression): 0.94 \n"
     ]
    },
    {
     "data": {
      "image/png": "[encoded data removed]",
      "text/plain": [
       "<Figure size 864x720 with 1 Axes>"
      ]
     },
     "metadata": {
      "needs_background": "light"
     },
     "output_type": "display_data"
    }
   ],
   "source": [
    "#--- Using Pre-defined function\n",
    "from sklearn.metrics import roc_curve,roc_auc_score\n",
    "def plotROCCurve(y_original, probs):\n",
    "  title = 'ROC Curve for Logistic Regression'\n",
    "  label = 'None'\n",
    "  # calculate the ROC score\n",
    "  fpr, tpr, thresholds = roc_curve(y_original, probs)\n",
    "  print('--> probs',len(np.squeeze(probs)))\n",
    "  print('--> thresholds : ',len(thresholds))\n",
    "  print('--> fpr : ',fpr)\n",
    "  print('--> tpr : ',tpr)\n",
    "  print('AUC Score ({}): {:.2f} '.format(title, roc_auc_score(y_original, probs)))    \n",
    "  label = 'AUC Score ({}): {:.2f} '.format(title, roc_auc_score(y_original, probs))\n",
    "  # plot the ROC curve\n",
    "  plt.figure( figsize=(12,10))\n",
    "  plt.plot(fpr, tpr, linewidth=2, label=label, color='b')\n",
    "  plt.plot([0, 1], [0, 1], 'k--')\n",
    "  plt.xlabel('False Positive Rate', fontsize=16)\n",
    "  plt.ylabel('True Positive Rate', fontsize=16)\n",
    "  plt.title('ROC Curve: {}'.format(title), fontsize=16)\n",
    "  plt.legend(loc='lower right')\n",
    "  plt.show()\n",
    "\n",
    "plotROCCurve(y_original,probs)"
   ]
  },
  {
   "cell_type": "markdown",
   "metadata": {
    "colab_type": "text",
    "id": "pyC8TqZ8J2_Y"
   },
   "source": [
    "### problem 4\n",
    "Apply your logistic regression classifier to the breast cancer Wisconsin dataset, which can either be loaded with python by following instructions here:\n",
    "\n",
    "[breast-cancer-dataset-scikitlearn](http://scikit-learn.org/stable/modules/generated/sklearn.datasets.load_breast_cancer.html)\n",
    "\n",
    "or downloaded from\n",
    "\n",
    "[breast-cancer-data UCI Repository](https://archive.ics.uci.edu/ml/datasets/Breast+Cancer+Wisconsin+(Diagnostic)) .\n",
    "\n",
    "Randomly splitting the data into two subsets with one having 2/3 of the examples and the other\n",
    "having the rest 1/3. Use the 2/3 subset to train a logistic regression model and the 1/3 subset to\n",
    "test the model. Plot the ROC curve on the testing set with your ROC plotting function."
   ]
  },
  {
   "cell_type": "code",
   "execution_count": 10,
   "metadata": {},
   "outputs": [
    {
     "name": "stdout",
     "output_type": "stream",
     "text": [
      "['malignant' 'benign']\n",
      ".. _breast_cancer_dataset:\n",
      "\n",
      "Breast cancer wisconsin (diagnostic) dataset\n",
      "--------------------------------------------\n",
      "\n",
      "**Data Set Characteristics:**\n",
      "\n",
      "    :Number of Instances: 569\n",
      "\n",
      "    :Number of Attributes: 30 numeric, predictive attributes and the class\n",
      "\n",
      "    :Attribute Information:\n",
      "        - radius (mean of distances from center to points on the perimeter)\n",
      "        - texture (standard deviation of gray-scale values)\n",
      "        - perimeter\n",
      "        - area\n",
      "        - smoothness (local variation in radius lengths)\n",
      "        - compactness (perimeter^2 / area - 1.0)\n",
      "        - concavity (severity of concave portions of the contour)\n",
      "        - concave points (number of concave portions of the contour)\n",
      "        - symmetry \n",
      "        - fractal dimension (\"coastline approximation\" - 1)\n",
      "\n",
      "        The mean, standard error, and \"worst\" or largest (mean of the three\n",
      "        largest values) of these features were computed for each image,\n",
      "        resulting in 30 features.  For instance, field 3 is Mean Radius, field\n",
      "        13 is Radius SE, field 23 is Worst Radius.\n",
      "\n",
      "        - class:\n",
      "                - WDBC-Malignant\n",
      "                - WDBC-Benign\n",
      "\n",
      "    :Summary Statistics:\n",
      "\n",
      "    ===================================== ====== ======\n",
      "                                           Min    Max\n",
      "    ===================================== ====== ======\n",
      "    radius (mean):                        6.981  28.11\n",
      "    texture (mean):                       9.71   39.28\n",
      "    perimeter (mean):                     43.79  188.5\n",
      "    area (mean):                          143.5  2501.0\n",
      "    smoothness (mean):                    0.053  0.163\n",
      "    compactness (mean):                   0.019  0.345\n",
      "    concavity (mean):                     0.0    0.427\n",
      "    concave points (mean):                0.0    0.201\n",
      "    symmetry (mean):                      0.106  0.304\n",
      "    fractal dimension (mean):             0.05   0.097\n",
      "    radius (standard error):              0.112  2.873\n",
      "    texture (standard error):             0.36   4.885\n",
      "    perimeter (standard error):           0.757  21.98\n",
      "    area (standard error):                6.802  542.2\n",
      "    smoothness (standard error):          0.002  0.031\n",
      "    compactness (standard error):         0.002  0.135\n",
      "    concavity (standard error):           0.0    0.396\n",
      "    concave points (standard error):      0.0    0.053\n",
      "    symmetry (standard error):            0.008  0.079\n",
      "    fractal dimension (standard error):   0.001  0.03\n",
      "    radius (worst):                       7.93   36.04\n",
      "    texture (worst):                      12.02  49.54\n",
      "    perimeter (worst):                    50.41  251.2\n",
      "    area (worst):                         185.2  4254.0\n",
      "    smoothness (worst):                   0.071  0.223\n",
      "    compactness (worst):                  0.027  1.058\n",
      "    concavity (worst):                    0.0    1.252\n",
      "    concave points (worst):               0.0    0.291\n",
      "    symmetry (worst):                     0.156  0.664\n",
      "    fractal dimension (worst):            0.055  0.208\n",
      "    ===================================== ====== ======\n",
      "\n",
      "    :Missing Attribute Values: None\n",
      "\n",
      "    :Class Distribution: 212 - Malignant, 357 - Benign\n",
      "\n",
      "    :Creator:  Dr. William H. Wolberg, W. Nick Street, Olvi L. Mangasarian\n",
      "\n",
      "    :Donor: Nick Street\n",
      "\n",
      "    :Date: November, 1995\n",
      "\n",
      "This is a copy of UCI ML Breast Cancer Wisconsin (Diagnostic) datasets.\n",
      "https://goo.gl/U2Uwz2\n",
      "\n",
      "Features are computed from a digitized image of a fine needle\n",
      "aspirate (FNA) of a breast mass.  They describe\n",
      "characteristics of the cell nuclei present in the image.\n",
      "\n",
      "Separating plane described above was obtained using\n",
      "Multisurface Method-Tree (MSM-T) [K. P. Bennett, \"Decision Tree\n",
      "Construction Via Linear Programming.\" Proceedings of the 4th\n",
      "Midwest Artificial Intelligence and Cognitive Science Society,\n",
      "pp. 97-101, 1992], a classification method which uses linear\n",
      "programming to construct a decision tree.  Relevant features\n",
      "were selected using an exhaustive search in the space of 1-4\n",
      "features and 1-3 separating planes.\n",
      "\n",
      "The actual linear program used to obtain the separating plane\n",
      "in the 3-dimensional space is that described in:\n",
      "[K. P. Bennett and O. L. Mangasarian: \"Robust Linear\n",
      "Programming Discrimination of Two Linearly Inseparable Sets\",\n",
      "Optimization Methods and Software 1, 1992, 23-34].\n",
      "\n",
      "This database is also available through the UW CS ftp server:\n",
      "\n",
      "ftp ftp.cs.wisc.edu\n",
      "cd math-prog/cpo-dataset/machine-learn/WDBC/\n",
      "\n",
      ".. topic:: References\n",
      "\n",
      "   - W.N. Street, W.H. Wolberg and O.L. Mangasarian. Nuclear feature extraction \n",
      "     for breast tumor diagnosis. IS&T/SPIE 1993 International Symposium on \n",
      "     Electronic Imaging: Science and Technology, volume 1905, pages 861-870,\n",
      "     San Jose, CA, 1993.\n",
      "   - O.L. Mangasarian, W.N. Street and W.H. Wolberg. Breast cancer diagnosis and \n",
      "     prognosis via linear programming. Operations Research, 43(4), pages 570-577, \n",
      "     July-August 1995.\n",
      "   - W.H. Wolberg, W.N. Street, and O.L. Mangasarian. Machine learning techniques\n",
      "     to diagnose breast cancer from fine-needle aspirates. Cancer Letters 77 (1994) \n",
      "     163-171.\n"
     ]
    }
   ],
   "source": [
    "from sklearn.datasets import load_breast_cancer\n",
    "from pandas import DataFrame,Series\n",
    "import pandas as pd\n",
    "#----- 0 - malignant\n",
    "#----- 1 - Benign\n",
    "data = load_breast_cancer()\n",
    "#data\n",
    "classes = data.target_names\n",
    "print(classes)\n",
    "print(data.DESCR)"
   ]
  },
  {
   "cell_type": "code",
   "execution_count": 11,
   "metadata": {},
   "outputs": [
    {
     "name": "stdout",
     "output_type": "stream",
     "text": [
      "569\n",
      "(569,)\n"
     ]
    },
    {
     "data": {
      "text/html": [
       "<div>\n",
       "<style scoped>\n",
       "    .dataframe tbody tr th:only-of-type {\n",
       "        vertical-align: middle;\n",
       "    }\n",
       "\n",
       "    .dataframe tbody tr th {\n",
       "        vertical-align: top;\n",
       "    }\n",
       "\n",
       "    .dataframe thead th {\n",
       "        text-align: right;\n",
       "    }\n",
       "</style>\n",
       "<table border=\"1\" class=\"dataframe\">\n",
       "  <thead>\n",
       "    <tr style=\"text-align: right;\">\n",
       "      <th></th>\n",
       "      <th>mean radius</th>\n",
       "      <th>mean texture</th>\n",
       "      <th>mean perimeter</th>\n",
       "      <th>mean area</th>\n",
       "      <th>mean smoothness</th>\n",
       "      <th>mean compactness</th>\n",
       "      <th>mean concavity</th>\n",
       "      <th>mean concave points</th>\n",
       "      <th>mean symmetry</th>\n",
       "      <th>mean fractal dimension</th>\n",
       "      <th>...</th>\n",
       "      <th>worst texture</th>\n",
       "      <th>worst perimeter</th>\n",
       "      <th>worst area</th>\n",
       "      <th>worst smoothness</th>\n",
       "      <th>worst compactness</th>\n",
       "      <th>worst concavity</th>\n",
       "      <th>worst concave points</th>\n",
       "      <th>worst symmetry</th>\n",
       "      <th>worst fractal dimension</th>\n",
       "      <th>target</th>\n",
       "    </tr>\n",
       "  </thead>\n",
       "  <tbody>\n",
       "    <tr>\n",
       "      <td>0</td>\n",
       "      <td>17.99</td>\n",
       "      <td>10.38</td>\n",
       "      <td>122.80</td>\n",
       "      <td>1001.0</td>\n",
       "      <td>0.11840</td>\n",
       "      <td>0.27760</td>\n",
       "      <td>0.3001</td>\n",
       "      <td>0.14710</td>\n",
       "      <td>0.2419</td>\n",
       "      <td>0.07871</td>\n",
       "      <td>...</td>\n",
       "      <td>17.33</td>\n",
       "      <td>184.60</td>\n",
       "      <td>2019.0</td>\n",
       "      <td>0.1622</td>\n",
       "      <td>0.6656</td>\n",
       "      <td>0.7119</td>\n",
       "      <td>0.2654</td>\n",
       "      <td>0.4601</td>\n",
       "      <td>0.11890</td>\n",
       "      <td>0</td>\n",
       "    </tr>\n",
       "    <tr>\n",
       "      <td>1</td>\n",
       "      <td>20.57</td>\n",
       "      <td>17.77</td>\n",
       "      <td>132.90</td>\n",
       "      <td>1326.0</td>\n",
       "      <td>0.08474</td>\n",
       "      <td>0.07864</td>\n",
       "      <td>0.0869</td>\n",
       "      <td>0.07017</td>\n",
       "      <td>0.1812</td>\n",
       "      <td>0.05667</td>\n",
       "      <td>...</td>\n",
       "      <td>23.41</td>\n",
       "      <td>158.80</td>\n",
       "      <td>1956.0</td>\n",
       "      <td>0.1238</td>\n",
       "      <td>0.1866</td>\n",
       "      <td>0.2416</td>\n",
       "      <td>0.1860</td>\n",
       "      <td>0.2750</td>\n",
       "      <td>0.08902</td>\n",
       "      <td>0</td>\n",
       "    </tr>\n",
       "    <tr>\n",
       "      <td>2</td>\n",
       "      <td>19.69</td>\n",
       "      <td>21.25</td>\n",
       "      <td>130.00</td>\n",
       "      <td>1203.0</td>\n",
       "      <td>0.10960</td>\n",
       "      <td>0.15990</td>\n",
       "      <td>0.1974</td>\n",
       "      <td>0.12790</td>\n",
       "      <td>0.2069</td>\n",
       "      <td>0.05999</td>\n",
       "      <td>...</td>\n",
       "      <td>25.53</td>\n",
       "      <td>152.50</td>\n",
       "      <td>1709.0</td>\n",
       "      <td>0.1444</td>\n",
       "      <td>0.4245</td>\n",
       "      <td>0.4504</td>\n",
       "      <td>0.2430</td>\n",
       "      <td>0.3613</td>\n",
       "      <td>0.08758</td>\n",
       "      <td>0</td>\n",
       "    </tr>\n",
       "    <tr>\n",
       "      <td>3</td>\n",
       "      <td>11.42</td>\n",
       "      <td>20.38</td>\n",
       "      <td>77.58</td>\n",
       "      <td>386.1</td>\n",
       "      <td>0.14250</td>\n",
       "      <td>0.28390</td>\n",
       "      <td>0.2414</td>\n",
       "      <td>0.10520</td>\n",
       "      <td>0.2597</td>\n",
       "      <td>0.09744</td>\n",
       "      <td>...</td>\n",
       "      <td>26.50</td>\n",
       "      <td>98.87</td>\n",
       "      <td>567.7</td>\n",
       "      <td>0.2098</td>\n",
       "      <td>0.8663</td>\n",
       "      <td>0.6869</td>\n",
       "      <td>0.2575</td>\n",
       "      <td>0.6638</td>\n",
       "      <td>0.17300</td>\n",
       "      <td>0</td>\n",
       "    </tr>\n",
       "    <tr>\n",
       "      <td>4</td>\n",
       "      <td>20.29</td>\n",
       "      <td>14.34</td>\n",
       "      <td>135.10</td>\n",
       "      <td>1297.0</td>\n",
       "      <td>0.10030</td>\n",
       "      <td>0.13280</td>\n",
       "      <td>0.1980</td>\n",
       "      <td>0.10430</td>\n",
       "      <td>0.1809</td>\n",
       "      <td>0.05883</td>\n",
       "      <td>...</td>\n",
       "      <td>16.67</td>\n",
       "      <td>152.20</td>\n",
       "      <td>1575.0</td>\n",
       "      <td>0.1374</td>\n",
       "      <td>0.2050</td>\n",
       "      <td>0.4000</td>\n",
       "      <td>0.1625</td>\n",
       "      <td>0.2364</td>\n",
       "      <td>0.07678</td>\n",
       "      <td>0</td>\n",
       "    </tr>\n",
       "  </tbody>\n",
       "</table>\n",
       "<p>5 rows × 31 columns</p>\n",
       "</div>"
      ],
      "text/plain": [
       "   mean radius  mean texture  mean perimeter  mean area  mean smoothness  \\\n",
       "0        17.99         10.38          122.80     1001.0          0.11840   \n",
       "1        20.57         17.77          132.90     1326.0          0.08474   \n",
       "2        19.69         21.25          130.00     1203.0          0.10960   \n",
       "3        11.42         20.38           77.58      386.1          0.14250   \n",
       "4        20.29         14.34          135.10     1297.0          0.10030   \n",
       "\n",
       "   mean compactness  mean concavity  mean concave points  mean symmetry  \\\n",
       "0           0.27760          0.3001              0.14710         0.2419   \n",
       "1           0.07864          0.0869              0.07017         0.1812   \n",
       "2           0.15990          0.1974              0.12790         0.2069   \n",
       "3           0.28390          0.2414              0.10520         0.2597   \n",
       "4           0.13280          0.1980              0.10430         0.1809   \n",
       "\n",
       "   mean fractal dimension  ...  worst texture  worst perimeter  worst area  \\\n",
       "0                 0.07871  ...          17.33           184.60      2019.0   \n",
       "1                 0.05667  ...          23.41           158.80      1956.0   \n",
       "2                 0.05999  ...          25.53           152.50      1709.0   \n",
       "3                 0.09744  ...          26.50            98.87       567.7   \n",
       "4                 0.05883  ...          16.67           152.20      1575.0   \n",
       "\n",
       "   worst smoothness  worst compactness  worst concavity  worst concave points  \\\n",
       "0            0.1622             0.6656           0.7119                0.2654   \n",
       "1            0.1238             0.1866           0.2416                0.1860   \n",
       "2            0.1444             0.4245           0.4504                0.2430   \n",
       "3            0.2098             0.8663           0.6869                0.2575   \n",
       "4            0.1374             0.2050           0.4000                0.1625   \n",
       "\n",
       "   worst symmetry  worst fractal dimension  target  \n",
       "0          0.4601                  0.11890       0  \n",
       "1          0.2750                  0.08902       0  \n",
       "2          0.3613                  0.08758       0  \n",
       "3          0.6638                  0.17300       0  \n",
       "4          0.2364                  0.07678       0  \n",
       "\n",
       "[5 rows x 31 columns]"
      ]
     },
     "execution_count": 11,
     "metadata": {},
     "output_type": "execute_result"
    }
   ],
   "source": [
    "dataDF_X = DataFrame(data['data'],columns=data['feature_names']) #--- creating dataFrame with features\n",
    "dataDF_Y = DataFrame(data['target'],columns=['target'])          #--- creating dataFrame with Labels\n",
    "dataDF = dataDF_X.join(dataDF_Y)                                 #--- Merging the dataframes\n",
    "print(len(dataDF_Y))\n",
    "print(data['target'].shape)\n",
    "dataDF.head()\n",
    "#data = DataFrame(data)"
   ]
  },
  {
   "cell_type": "code",
   "execution_count": 12,
   "metadata": {},
   "outputs": [],
   "source": [
    "#--- Checking for missing data\n",
    "#dataDF.isnull().sum() #--- no column has null data\n",
    "#dataDF.isna().sum()    #--- no column has NAN data in it\n",
    "\n",
    "from sklearn.model_selection import train_test_split\n",
    "X_train, X_test, Y_train, Y_test = train_test_split(dataDF_X, dataDF_Y, test_size = 0.33, random_state = 0)"
   ]
  },
  {
   "cell_type": "code",
   "execution_count": 13,
   "metadata": {},
   "outputs": [
    {
     "name": "stdout",
     "output_type": "stream",
     "text": [
      "Cost after iteration 0 : 0.693147\n",
      "Cost after iteration 1000 : 0.254450\n",
      "Cost after iteration 2000 : 0.227522\n",
      "Cost after iteration 3000 : 0.216847\n",
      "Cost after iteration 4000 : 0.211264\n",
      "Cost after iteration 5000 : 0.207845\n",
      "Cost after iteration 6000 : 0.205505\n",
      "Cost after iteration 7000 : 0.203760\n",
      "Cost after iteration 8000 : 0.202371\n",
      "Cost after iteration 9000 : 0.201208\n",
      "train accuracy: 91.60104986876641 %\n",
      "test accuracy: 92.55319148936171 %\n"
     ]
    }
   ],
   "source": [
    "#---- Question 4 -- using custom logistic classifier\n",
    "#%%time\n",
    "from sklearn.datasets import load_breast_cancer\n",
    "from pandas import DataFrame,Series\n",
    "import pandas as pd\n",
    "\n",
    "data = load_breast_cancer()\n",
    "#data\n",
    "classes = data.target_names\n",
    "#--- Split the data into Train and Test\n",
    "from sklearn.model_selection import train_test_split\n",
    "X_train, X_test, Y_train, Y_test = train_test_split(dataDF_X, dataDF_Y, test_size = 0.33, random_state = 1)\n",
    "d = logistic(X_train, Y_train, X_test, Y_test, 0.00001,  10000, True)"
   ]
  },
  {
   "cell_type": "code",
   "execution_count": 17,
   "metadata": {},
   "outputs": [
    {
     "data": {
      "image/png": "[encoded data removed]",
      "text/plain": [
       "<Figure size 864x720 with 1 Axes>"
      ]
     },
     "metadata": {
      "needs_background": "light"
     },
     "output_type": "display_data"
    }
   ],
   "source": [
    "plotlearningCurve(d)"
   ]
  },
  {
   "cell_type": "code",
   "execution_count": 18,
   "metadata": {},
   "outputs": [
    {
     "name": "stderr",
     "output_type": "stream",
     "text": [
      "/home/heramb/anaconda3/lib/python3.7/site-packages/ipykernel_launcher.py:28: UserWarning: Matplotlib is currently using module://ipykernel.pylab.backend_inline, which is a non-GUI backend, so cannot show the figure.\n"
     ]
    },
    {
     "data": {
      "image/png": "[encoded data removed]",
      "text/plain": [
       "<Figure size 864x720 with 1 Axes>"
      ]
     },
     "metadata": {
      "needs_background": "light"
     },
     "output_type": "display_data"
    }
   ],
   "source": [
    "#--- ROC Curve - Custom build\n",
    "probs = d['Y_prob_train']\n",
    "y_preds = d['Y_Prediction_Train']\n",
    "y_original = np.squeeze(Y_train)\n",
    "plotROC(y_original,y_preds,probs)"
   ]
  },
  {
   "cell_type": "code",
   "execution_count": 19,
   "metadata": {},
   "outputs": [
    {
     "name": "stdout",
     "output_type": "stream",
     "text": [
      "--> fpr :  [0.         0.         0.         0.00680272 0.00680272 0.01360544\n",
      " 0.01360544 0.02040816 0.02040816 0.02721088 0.02721088 0.03401361\n",
      " 0.03401361 0.04081633 0.04081633 0.05442177 0.05442177 0.06122449\n",
      " 0.06122449 0.06802721 0.06802721 0.07482993 0.07482993 0.08163265\n",
      " 0.08163265 0.08843537 0.08843537 0.10204082 0.10204082 0.10884354\n",
      " 0.10884354 0.13605442 0.13605442 0.15646259 0.15646259 0.17006803\n",
      " 0.17006803 0.18367347 0.18367347 0.31292517 0.31292517 1.        ]\n",
      "--> tpr :  [0.         0.0042735  0.42307692 0.42307692 0.45726496 0.45726496\n",
      " 0.55128205 0.55128205 0.57264957 0.57264957 0.64529915 0.64529915\n",
      " 0.75641026 0.75641026 0.81196581 0.81196581 0.82051282 0.82051282\n",
      " 0.84615385 0.84615385 0.85470085 0.85470085 0.86324786 0.86324786\n",
      " 0.9017094  0.9017094  0.90598291 0.90598291 0.91880342 0.91880342\n",
      " 0.94444444 0.94444444 0.94871795 0.94871795 0.97008547 0.97008547\n",
      " 0.97435897 0.97435897 0.9957265  0.9957265  1.         1.        ]\n",
      "AUC Score (ROC Curve for Logistic Regression): 0.97 \n"
     ]
    },
    {
     "data": {
      "image/png": "[encoded data removed]",
      "text/plain": [
       "<Figure size 864x720 with 1 Axes>"
      ]
     },
     "metadata": {
      "needs_background": "light"
     },
     "output_type": "display_data"
    }
   ],
   "source": [
    "#--- Using Pre-defined function\n",
    "title = 'ROC Curve for Logistic Regression'\n",
    "label = 'None'\n",
    "# calculate the ROC score\n",
    "fpr, tpr, thresholds = roc_curve(y_original, probs)\n",
    "#print('--> probs',np.squeeze(probs))\n",
    "#print('--> thresholds : ',thresholds)\n",
    "print('--> fpr : ',fpr)\n",
    "print('--> tpr : ',tpr)\n",
    "print('AUC Score ({}): {:.2f} '.format(title, roc_auc_score(y_original, probs)))    \n",
    "label = 'AUC Score ({}): {:.2f} '.format(title, roc_auc_score(y_original, probs))\n",
    "# plot the ROC curve\n",
    "plt.figure(figsize=(12,10))\n",
    "plt.plot(fpr, tpr, linewidth=2, label=label, color='b')\n",
    "plt.xlabel('False Positive Rate', fontsize=16)\n",
    "plt.ylabel('True Positive Rate', fontsize=16)\n",
    "plt.title('ROC Curve: {}'.format(title), fontsize=16)\n",
    "plt.legend(loc='lower right')\n",
    "plt.show()"
   ]
  },
  {
   "cell_type": "code",
   "execution_count": 20,
   "metadata": {
    "colab": {
     "base_uri": "https://localhost:8080/",
     "height": 427
    },
    "colab_type": "code",
    "id": "6mX0wbyCgp85",
    "outputId": "8e411380-8374-468d-a7a6-c4fdb538501a"
   },
   "outputs": [
    {
     "name": "stderr",
     "output_type": "stream",
     "text": [
      "/home/heramb/anaconda3/lib/python3.7/site-packages/sklearn/linear_model/logistic.py:432: FutureWarning: Default solver will be changed to 'lbfgs' in 0.22. Specify a solver to silence this warning.\n",
      "  FutureWarning)\n",
      "/home/heramb/anaconda3/lib/python3.7/site-packages/sklearn/utils/validation.py:724: DataConversionWarning: A column-vector y was passed when a 1d array was expected. Please change the shape of y to (n_samples, ), for example using ravel().\n",
      "  y = column_or_1d(y, warn=True)\n"
     ]
    },
    {
     "data": {
      "text/plain": [
       "Text(0.5, 257.44, 'Predicted label')"
      ]
     },
     "execution_count": 20,
     "metadata": {},
     "output_type": "execute_result"
    },
    {
     "data": {
      "image/png": "[encoded data removed]",
      "text/plain": [
       "<Figure size 432x288 with 2 Axes>"
      ]
     },
     "metadata": {
      "needs_background": "light"
     },
     "output_type": "display_data"
    }
   ],
   "source": [
    "#--- Using Logistic Regression Algorithm to the Training Set Predefined model library\n",
    "from sklearn.linear_model import LogisticRegression\n",
    "import matplotlib.pyplot as plt\n",
    "import seaborn as sns\n",
    "%matplotlib inline\n",
    "classifier = LogisticRegression(random_state = 0)\n",
    "classifier.fit(X_train, Y_train)\n",
    "y_score = classifier.decision_function(X_test)\n",
    "#--- test the trained classifer\n",
    "Y_pred = classifier.predict(X_test)\n",
    "y_pred_proba = classifier.predict_proba(X_test)[::,1]\n",
    " #--- checking the accuracy\n",
    "from sklearn.metrics import confusion_matrix\n",
    "cm = confusion_matrix(Y_test, Y_pred)\n",
    "#---- plotting confusion matrix\n",
    "class_names=classes\n",
    "fig, ax = plt.subplots()\n",
    "tick_marks = np.arange(len(class_names))\n",
    "plt.xticks(tick_marks, class_names)\n",
    "plt.yticks(tick_marks, class_names)\n",
    "# create heatmap\n",
    "sns.heatmap(pd.DataFrame(cm), annot=True, cmap=\"YlGnBu\" ,fmt='g')\n",
    "ax.xaxis.set_label_position(\"top\")\n",
    "plt.tight_layout()\n",
    "plt.title('Confusion matrix', y=1.1)\n",
    "plt.ylabel('Actual label')\n",
    "plt.xlabel('Predicted label')"
   ]
  },
  {
   "cell_type": "code",
   "execution_count": 21,
   "metadata": {
    "colab": {
     "base_uri": "https://localhost:8080/",
     "height": 34
    },
    "colab_type": "code",
    "id": "_VmuzSePtQ3V",
    "outputId": "4f90dc80-9c64-43b9-97eb-c9d3f7f8bc65"
   },
   "outputs": [
    {
     "name": "stdout",
     "output_type": "stream",
     "text": [
      "test accuracy - 0.9521276595744681\n"
     ]
    }
   ],
   "source": [
    "Y_proba = classifier.predict_proba(X_test)\n",
    "#print('predicted probabilities',y_score[:])\n",
    "cs_score = classifier.score(X_test, Y_test)\n",
    "print('test accuracy -',cs_score)"
   ]
  },
  {
   "cell_type": "code",
   "execution_count": 22,
   "metadata": {
    "colab": {
     "base_uri": "https://localhost:8080/",
     "height": 428
    },
    "colab_type": "code",
    "id": "V_YOyV6SxE_3",
    "outputId": "2981f30c-91d5-4564-8d00-d4f6b2d03fc8"
   },
   "outputs": [
    {
     "name": "stdout",
     "output_type": "stream",
     "text": [
      "AUC Score (ROC Curve for Logistic Regression): 0.99 \n"
     ]
    },
    {
     "data": {
      "image/png": "[encoded data removed]",
      "text/plain": [
       "<Figure size 576x432 with 1 Axes>"
      ]
     },
     "metadata": {
      "needs_background": "light"
     },
     "output_type": "display_data"
    }
   ],
   "source": [
    "#---- ROC Curve\n",
    "from sklearn import metrics\n",
    "from sklearn.metrics import roc_auc_score,roc_curve\n",
    "from itertools import cycle\n",
    "import matplotlib.pyplot as plt\n",
    "%matplotlib inline\n",
    "\n",
    "#--- 0 ---- Malignant - Harmful\n",
    "#--- 1 ---- Benign - Not Harmful\n",
    "\n",
    "# Compute ROC curve and ROC area for each class\n",
    "title = 'ROC Curve for Logistic Regression'\n",
    "label = 'None'\n",
    "# calculate the ROC score\n",
    "fpr, tpr, thresholds = roc_curve(Y_test, y_pred_proba)\n",
    "print('AUC Score ({}): {:.2f} '.format(title, roc_auc_score(Y_test, y_pred_proba)))    \n",
    "label = 'AUC Score ({}): {:.2f} '.format(title, roc_auc_score(Y_test, y_pred_proba))\n",
    "# plot the ROC curve\n",
    "plt.figure(figsize=(8,6))\n",
    "plt.plot(fpr, tpr, linewidth=2, label=label, color='b')\n",
    "plt.xlabel('False Positive Rate', fontsize=16)\n",
    "plt.ylabel('True Positive Rate', fontsize=16)\n",
    "plt.title('ROC Curve: {}'.format(title), fontsize=16)\n",
    "plt.legend(loc='lower right')\n",
    "plt.show()"
   ]
  },
  {
   "cell_type": "markdown",
   "metadata": {},
   "source": [
    "### Points\n",
    "- Problem 1 : derved the gradient of the loss Function.\n",
    "\n",
    "Gradient : $\\nabla L(w) = X^T(\\sigma(X^Tw) - Y)$\n",
    "\n",
    "- Problem 2 : Built a logistic regression classifier using Gradient Descent Algorithm. \n",
    "- Problem 3 : Built a function to plot ROC curve calculate AUC of the curve.\n",
    "- problem 4 : Applied logistic regression classifier to the breast cancer Wisconsin dataset, predicted malignant tumours with a prediction accuracy of 93%. "
   ]
  }
 ],
 "metadata": {
  "file_extension": ".py",
  "kernelspec": {
   "display_name": "Python 3",
   "language": "python",
   "name": "python3"
  },
  "language_info": {
   "codemirror_mode": {
    "name": "ipython",
    "version": 3
   },
   "file_extension": ".py",
   "mimetype": "text/x-python",
   "name": "python",
   "nbconvert_exporter": "python",
   "pygments_lexer": "ipython3",
   "version": "3.7.4"
  },
  "mimetype": "text/x-python",
  "name": "python",
  "npconvert_exporter": "python",
  "pygments_lexer": "ipython3",
  "version": 3
 },
 "nbformat": 4,
 "nbformat_minor": 4
}
